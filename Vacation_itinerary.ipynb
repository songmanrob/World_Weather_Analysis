{
 "cells": [
  {
   "cell_type": "code",
   "execution_count": 1,
   "metadata": {},
   "outputs": [],
   "source": [
    "# Import the dependencies.\n",
    "import pandas as pd\n",
    "import matplotlib.pyplot as plt\n",
    "import numpy as np\n",
    "from citipy import citipy\n",
    "\n",
    "# Import the requests library.\n",
    "import requests\n",
    "\n",
    "# Import gmaps\n",
    "import gmaps\n",
    "import gmaps.datasets\n",
    "\n",
    "# Import the API keys.\n",
    "from config import weather_api_key\n",
    "from config import g_key\n",
    "\n",
    "# Import the datetime module from the datetime library.\n",
    "from datetime import datetime"
   ]
  },
  {
   "cell_type": "code",
   "execution_count": 2,
   "metadata": {},
   "outputs": [
    {
     "data": {
      "text/html": [
       "<div>\n",
       "<style scoped>\n",
       "    .dataframe tbody tr th:only-of-type {\n",
       "        vertical-align: middle;\n",
       "    }\n",
       "\n",
       "    .dataframe tbody tr th {\n",
       "        vertical-align: top;\n",
       "    }\n",
       "\n",
       "    .dataframe thead th {\n",
       "        text-align: right;\n",
       "    }\n",
       "</style>\n",
       "<table border=\"1\" class=\"dataframe\">\n",
       "  <thead>\n",
       "    <tr style=\"text-align: right;\">\n",
       "      <th></th>\n",
       "      <th>City_ID</th>\n",
       "      <th>City</th>\n",
       "      <th>Country</th>\n",
       "      <th>Max Temp</th>\n",
       "      <th>Current Description</th>\n",
       "      <th>Lat</th>\n",
       "      <th>Lng</th>\n",
       "      <th>Hotel Name</th>\n",
       "    </tr>\n",
       "  </thead>\n",
       "  <tbody>\n",
       "    <tr>\n",
       "      <th>0</th>\n",
       "      <td>0</td>\n",
       "      <td>Albany</td>\n",
       "      <td>US</td>\n",
       "      <td>54.00</td>\n",
       "      <td>overcast clouds</td>\n",
       "      <td>42.60</td>\n",
       "      <td>-73.97</td>\n",
       "      <td>NaN</td>\n",
       "    </tr>\n",
       "    <tr>\n",
       "      <th>1</th>\n",
       "      <td>4</td>\n",
       "      <td>Teguise</td>\n",
       "      <td>ES</td>\n",
       "      <td>68.00</td>\n",
       "      <td>few clouds</td>\n",
       "      <td>29.06</td>\n",
       "      <td>-13.56</td>\n",
       "      <td>B&amp;B La Casona de Nazaret</td>\n",
       "    </tr>\n",
       "    <tr>\n",
       "      <th>2</th>\n",
       "      <td>5</td>\n",
       "      <td>Castro</td>\n",
       "      <td>BR</td>\n",
       "      <td>55.17</td>\n",
       "      <td>clear sky</td>\n",
       "      <td>-24.79</td>\n",
       "      <td>-50.01</td>\n",
       "      <td>CHACARA BAILLY</td>\n",
       "    </tr>\n",
       "    <tr>\n",
       "      <th>3</th>\n",
       "      <td>8</td>\n",
       "      <td>Belmonte</td>\n",
       "      <td>BR</td>\n",
       "      <td>69.80</td>\n",
       "      <td>few clouds</td>\n",
       "      <td>-15.86</td>\n",
       "      <td>-38.88</td>\n",
       "      <td>Pousada Monte Carmelo O Pão</td>\n",
       "    </tr>\n",
       "    <tr>\n",
       "      <th>4</th>\n",
       "      <td>10</td>\n",
       "      <td>Morro Bay</td>\n",
       "      <td>US</td>\n",
       "      <td>70.00</td>\n",
       "      <td>broken clouds</td>\n",
       "      <td>35.37</td>\n",
       "      <td>-120.85</td>\n",
       "      <td>Inn at Morro Bay</td>\n",
       "    </tr>\n",
       "  </tbody>\n",
       "</table>\n",
       "</div>"
      ],
      "text/plain": [
       "   City_ID       City Country  Max Temp Current Description    Lat     Lng  \\\n",
       "0        0     Albany      US     54.00     overcast clouds  42.60  -73.97   \n",
       "1        4    Teguise      ES     68.00          few clouds  29.06  -13.56   \n",
       "2        5     Castro      BR     55.17           clear sky -24.79  -50.01   \n",
       "3        8   Belmonte      BR     69.80          few clouds -15.86  -38.88   \n",
       "4       10  Morro Bay      US     70.00       broken clouds  35.37 -120.85   \n",
       "\n",
       "                    Hotel Name  \n",
       "0                          NaN  \n",
       "1     B&B La Casona de Nazaret  \n",
       "2               CHACARA BAILLY  \n",
       "3  Pousada Monte Carmelo O Pão  \n",
       "4             Inn at Morro Bay  "
      ]
     },
     "execution_count": 2,
     "metadata": {},
     "output_type": "execute_result"
    }
   ],
   "source": [
    "WeatherPy_itinerary_df = pd.read_csv(\"weather_data/WeatherPy_vacation.csv\")\n",
    "WeatherPy_itinerary_df.head()"
   ]
  },
  {
   "cell_type": "code",
   "execution_count": 3,
   "metadata": {},
   "outputs": [
    {
     "data": {
      "text/html": [
       "<div>\n",
       "<style scoped>\n",
       "    .dataframe tbody tr th:only-of-type {\n",
       "        vertical-align: middle;\n",
       "    }\n",
       "\n",
       "    .dataframe tbody tr th {\n",
       "        vertical-align: top;\n",
       "    }\n",
       "\n",
       "    .dataframe thead th {\n",
       "        text-align: right;\n",
       "    }\n",
       "</style>\n",
       "<table border=\"1\" class=\"dataframe\">\n",
       "  <thead>\n",
       "    <tr style=\"text-align: right;\">\n",
       "      <th></th>\n",
       "      <th>City_ID</th>\n",
       "      <th>City</th>\n",
       "      <th>Country</th>\n",
       "      <th>Max Temp</th>\n",
       "      <th>Current Description</th>\n",
       "      <th>Lat</th>\n",
       "      <th>Lng</th>\n",
       "      <th>Hotel Name</th>\n",
       "    </tr>\n",
       "  </thead>\n",
       "  <tbody>\n",
       "    <tr>\n",
       "      <th>143</th>\n",
       "      <td>214</td>\n",
       "      <td>Billings</td>\n",
       "      <td>US</td>\n",
       "      <td>51.01</td>\n",
       "      <td>broken clouds</td>\n",
       "      <td>45.78</td>\n",
       "      <td>-108.50</td>\n",
       "      <td>Best Western Plus Clocktower Inn</td>\n",
       "    </tr>\n",
       "    <tr>\n",
       "      <th>146</th>\n",
       "      <td>219</td>\n",
       "      <td>Hailey</td>\n",
       "      <td>US</td>\n",
       "      <td>73.40</td>\n",
       "      <td>few clouds</td>\n",
       "      <td>43.52</td>\n",
       "      <td>-114.32</td>\n",
       "      <td>Wood River Inn &amp; Suites</td>\n",
       "    </tr>\n",
       "    <tr>\n",
       "      <th>179</th>\n",
       "      <td>277</td>\n",
       "      <td>Saint George</td>\n",
       "      <td>US</td>\n",
       "      <td>90.00</td>\n",
       "      <td>clear sky</td>\n",
       "      <td>37.10</td>\n",
       "      <td>-113.58</td>\n",
       "      <td>Best Western Plus Abbey Inn</td>\n",
       "    </tr>\n",
       "    <tr>\n",
       "      <th>222</th>\n",
       "      <td>343</td>\n",
       "      <td>Englewood</td>\n",
       "      <td>US</td>\n",
       "      <td>64.99</td>\n",
       "      <td>scattered clouds</td>\n",
       "      <td>39.65</td>\n",
       "      <td>-104.99</td>\n",
       "      <td>InTown Suites Extended Stay Denver CO - Englewood</td>\n",
       "    </tr>\n",
       "    <tr>\n",
       "      <th>255</th>\n",
       "      <td>384</td>\n",
       "      <td>Ontario</td>\n",
       "      <td>US</td>\n",
       "      <td>81.00</td>\n",
       "      <td>few clouds</td>\n",
       "      <td>34.06</td>\n",
       "      <td>-117.65</td>\n",
       "      <td>DoubleTree by Hilton Hotel Ontario Airport</td>\n",
       "    </tr>\n",
       "  </tbody>\n",
       "</table>\n",
       "</div>"
      ],
      "text/plain": [
       "     City_ID          City Country  Max Temp Current Description    Lat  \\\n",
       "143      214      Billings      US     51.01       broken clouds  45.78   \n",
       "146      219        Hailey      US     73.40          few clouds  43.52   \n",
       "179      277  Saint George      US     90.00           clear sky  37.10   \n",
       "222      343     Englewood      US     64.99    scattered clouds  39.65   \n",
       "255      384       Ontario      US     81.00          few clouds  34.06   \n",
       "\n",
       "        Lng                                         Hotel Name  \n",
       "143 -108.50                   Best Western Plus Clocktower Inn  \n",
       "146 -114.32                            Wood River Inn & Suites  \n",
       "179 -113.58                        Best Western Plus Abbey Inn  \n",
       "222 -104.99  InTown Suites Extended Stay Denver CO - Englewood  \n",
       "255 -117.65         DoubleTree by Hilton Hotel Ontario Airport  "
      ]
     },
     "execution_count": 3,
     "metadata": {},
     "output_type": "execute_result"
    }
   ],
   "source": [
    "itinerary_cities_df = WeatherPy_itinerary_df.loc[(WeatherPy_itinerary_df[\"Country\"]==\"US\") &\\\n",
    "                                          (WeatherPy_itinerary_df[\"Lat\"]<=50) & \\\n",
    "                                          (WeatherPy_itinerary_df[\"Lat\"]>=30) & \\\n",
    "                                          (WeatherPy_itinerary_df[\"Lng\"]<=(-100)) & \\\n",
    "                                          (WeatherPy_itinerary_df[\"Lng\"]>=(-120))]\n",
    "itinerary_cities_df"
   ]
  },
  {
   "cell_type": "code",
   "execution_count": 4,
   "metadata": {},
   "outputs": [
    {
     "data": {
      "text/plain": [
       "[[45.78, -108.5],\n",
       " [43.52, -114.32],\n",
       " [37.1, -113.58],\n",
       " [39.65, -104.99],\n",
       " [34.06, -117.65]]"
      ]
     },
     "execution_count": 4,
     "metadata": {},
     "output_type": "execute_result"
    }
   ],
   "source": [
    "coords_list = []\n",
    "for index, rows in itinerary_cities_df.iterrows():\n",
    "    coord_list = [rows.Lat, rows.Lng]\n",
    "    coords_list.append(coord_list)\n",
    "coords_list"
   ]
  },
  {
   "cell_type": "code",
   "execution_count": 5,
   "metadata": {},
   "outputs": [
    {
     "data": {
      "text/plain": [
       "[['Billings'], ['Hailey'], ['Saint George'], ['Englewood'], ['Ontario']]"
      ]
     },
     "execution_count": 5,
     "metadata": {},
     "output_type": "execute_result"
    }
   ],
   "source": [
    "cities_list = []\n",
    "for index, rows in itinerary_cities_df.iterrows():\n",
    "    city_list = [rows.City]\n",
    "    cities_list.append(city_list)\n",
    "cities_list"
   ]
  },
  {
   "cell_type": "code",
   "execution_count": 6,
   "metadata": {},
   "outputs": [],
   "source": [
    "for i in range(len(cities_list)):\n",
    "    cities_list[i] = coords_list[i]"
   ]
  },
  {
   "cell_type": "code",
   "execution_count": 7,
   "metadata": {},
   "outputs": [],
   "source": [
    "info_box_template = \"\"\"\n",
    "<dl>\n",
    "<dt>Hotel Name</dt><dd>{Hotel Name}</dd>\n",
    "<dt>City</dt><dd>{City}</dd>\n",
    "<dt>Country</dt><dd>{Country}</dd>\n",
    "<dt>Current Description</dt><dd>{Current Description} and {Max Temp}</dd>\n",
    "</dl>\n",
    "\"\"\"\n",
    "# Store the DataFrame Row.\n",
    "hotel_info = [info_box_template.format(**row) for index, row in itinerary_cities_df.iterrows()]"
   ]
  },
  {
   "cell_type": "code",
   "execution_count": 9,
   "metadata": {},
   "outputs": [
    {
     "data": {
      "application/vnd.jupyter.widget-view+json": {
       "model_id": "13f016a792d34f489a442a1fc33dc878",
       "version_major": 2,
       "version_minor": 0
      },
      "text/plain": [
       "Figure(layout=FigureLayout(height='420px'))"
      ]
     },
     "metadata": {},
     "output_type": "display_data"
    }
   ],
   "source": [
    "# Add a map of itinerary cities with directions layer\n",
    "locations = itinerary_cities_df[[\"Lat\", \"Lng\"]]\n",
    "fig = gmaps.figure(center=(30.0, 31.0), zoom_level=1.5)\n",
    "marker_layer = gmaps.marker_layer(locations, info_box_content=hotel_info)\n",
    "directions_layer = gmaps.directions_layer(cities_list[0], cities_list[-1], travel_mode=\"DRIVING\")\n",
    "\n",
    "fig.add_layer(directions_layer)\n",
    "fig.add_layer(marker_layer)\n",
    "# Call the figure to plot the data.\n",
    "fig"
   ]
  },
  {
   "cell_type": "code",
   "execution_count": null,
   "metadata": {},
   "outputs": [],
   "source": []
  }
 ],
 "metadata": {
  "kernelspec": {
   "display_name": "PythonData",
   "language": "python",
   "name": "pythondata"
  },
  "language_info": {
   "codemirror_mode": {
    "name": "ipython",
    "version": 3
   },
   "file_extension": ".py",
   "mimetype": "text/x-python",
   "name": "python",
   "nbconvert_exporter": "python",
   "pygments_lexer": "ipython3",
   "version": "3.7.7"
  }
 },
 "nbformat": 4,
 "nbformat_minor": 4
}
